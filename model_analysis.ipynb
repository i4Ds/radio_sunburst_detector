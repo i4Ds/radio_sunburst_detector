{
 "cells": [
  {
   "cell_type": "code",
   "execution_count": 1,
   "metadata": {},
   "outputs": [
    {
     "name": "stderr",
     "output_type": "stream",
     "text": [
      "2023-08-17 22:26:51.225385: I tensorflow/core/util/port.cc:110] oneDNN custom operations are on. You may see slightly different numerical results due to floating-point round-off errors from different computation orders. To turn them off, set the environment variable `TF_ENABLE_ONEDNN_OPTS=0`.\n",
      "2023-08-17 22:26:51.241262: I tensorflow/tsl/cuda/cudart_stub.cc:28] Could not find cuda drivers on your machine, GPU will not be used.\n",
      "2023-08-17 22:26:51.435972: I tensorflow/tsl/cuda/cudart_stub.cc:28] Could not find cuda drivers on your machine, GPU will not be used.\n",
      "2023-08-17 22:26:51.437187: I tensorflow/core/platform/cpu_feature_guard.cc:182] This TensorFlow binary is optimized to use available CPU instructions in performance-critical operations.\n",
      "To enable the following instructions: AVX2 AVX_VNNI FMA, in other operations, rebuild TensorFlow with the appropriate compiler flags.\n",
      "2023-08-17 22:26:52.243721: W tensorflow/compiler/tf2tensorrt/utils/py_utils.cc:38] TF-TRT Warning: Could not find TensorRT\n",
      "/home/kenfus/miniconda3/envs/radio_sunburst_detector/lib/python3.9/site-packages/tqdm/auto.py:21: TqdmWarning: IProgress not found. Please update jupyter and ipywidgets. See https://ipywidgets.readthedocs.io/en/stable/user_install.html\n",
      "  from .autonotebook import tqdm as notebook_tqdm\n"
     ]
    }
   ],
   "source": [
    "import argparse\n",
    "import os\n",
    "from itertools import islice\n",
    "\n",
    "import numpy as np\n",
    "import tensorflow as tf\n",
    "from tensorflow.keras.preprocessing.image import ImageDataGenerator\n",
    "from tqdm.keras import TqdmCallback\n",
    "from wandb.keras import WandbMetricsLogger\n",
    "# Import gradcam\n",
    "from tf_explain.core.grad_cam import GradCAM\n",
    "import wandb\n",
    "from configure_dataframes import directory_to_dataframe\n",
    "from data_preparation_utils import get_datasets\n",
    "from metric_utils import log_wandb_print_class_report, plot_roc_curve\n",
    "from modelbuilder import ModelBuilder, TransferLearningModelBuilder\n",
    "from train_utils import load_config\n",
    "from tensorflow.keras.models import load_model"
   ]
  },
  {
   "cell_type": "code",
   "execution_count": 2,
   "metadata": {},
   "outputs": [],
   "source": [
    "## PARAMS\n",
    "config_name = 'transfer_4'\n",
    "project_name = 'radio_sunburst_detection_main'\n",
    "entity = 'i4ds_radio_sunburst_detection'"
   ]
  },
  {
   "cell_type": "code",
   "execution_count": 3,
   "metadata": {},
   "outputs": [
    {
     "name": "stderr",
     "output_type": "stream",
     "text": [
      "Failed to detect the name of this notebook, you can set it manually with the WANDB_NOTEBOOK_NAME environment variable to enable code saving.\n"
     ]
    },
    {
     "name": "stderr",
     "output_type": "stream",
     "text": [
      "\u001b[34m\u001b[1mwandb\u001b[0m: Currently logged in as: \u001b[33mvincenzo-timmel\u001b[0m (\u001b[33mi4ds_radio_sunburst_detection\u001b[0m). Use \u001b[1m`wandb login --relogin`\u001b[0m to force relogin\n"
     ]
    },
    {
     "data": {
      "text/html": [
       "wandb version 0.15.8 is available!  To upgrade, please run:\n",
       " $ pip install wandb --upgrade"
      ],
      "text/plain": [
       "<IPython.core.display.HTML object>"
      ]
     },
     "metadata": {},
     "output_type": "display_data"
    },
    {
     "data": {
      "text/html": [
       "Tracking run with wandb version 0.15.6"
      ],
      "text/plain": [
       "<IPython.core.display.HTML object>"
      ]
     },
     "metadata": {},
     "output_type": "display_data"
    },
    {
     "data": {
      "text/html": [
       "Run data is saved locally in <code>/home/kenfus/radio_sunburst_detector/wandb/run-20230817_222656-ryof7184</code>"
      ],
      "text/plain": [
       "<IPython.core.display.HTML object>"
      ]
     },
     "metadata": {},
     "output_type": "display_data"
    },
    {
     "data": {
      "text/html": [
       "Syncing run <strong><a href='https://wandb.ai/i4ds_radio_sunburst_detection/radio_sunburst_detection_main/runs/ryof7184' target=\"_blank\">frosty-firebrand-35</a></strong> to <a href='https://wandb.ai/i4ds_radio_sunburst_detection/radio_sunburst_detection_main' target=\"_blank\">Weights & Biases</a> (<a href='https://wandb.me/run' target=\"_blank\">docs</a>)<br/>"
      ],
      "text/plain": [
       "<IPython.core.display.HTML object>"
      ]
     },
     "metadata": {},
     "output_type": "display_data"
    },
    {
     "data": {
      "text/html": [
       " View project at <a href='https://wandb.ai/i4ds_radio_sunburst_detection/radio_sunburst_detection_main' target=\"_blank\">https://wandb.ai/i4ds_radio_sunburst_detection/radio_sunburst_detection_main</a>"
      ],
      "text/plain": [
       "<IPython.core.display.HTML object>"
      ]
     },
     "metadata": {},
     "output_type": "display_data"
    },
    {
     "data": {
      "text/html": [
       " View run at <a href='https://wandb.ai/i4ds_radio_sunburst_detection/radio_sunburst_detection_main/runs/ryof7184' target=\"_blank\">https://wandb.ai/i4ds_radio_sunburst_detection/radio_sunburst_detection_main/runs/ryof7184</a>"
      ],
      "text/plain": [
       "<IPython.core.display.HTML object>"
      ]
     },
     "metadata": {},
     "output_type": "display_data"
    }
   ],
   "source": [
    "# Send config to wandb\n",
    "config = load_config(os.path.join(\"model_base_configs\", config_name + \".yaml\"))\n",
    "wandb.init(\n",
    "    project=project_name,\n",
    "    config=config,\n",
    "    entity=entity,\n",
    ")\n",
    "del config"
   ]
  },
  {
   "cell_type": "code",
   "execution_count": 4,
   "metadata": {},
   "outputs": [
    {
     "name": "stdout",
     "output_type": "stream",
     "text": [
      "Class balance in train dataset:\n",
      "label              burst  no_burst\n",
      "instrument                        \n",
      "australia_assa_02    812      7308\n",
      "--------------------------------------------------\n",
      "Class balance in test dataset:\n",
      "label              burst  no_burst\n",
      "instrument                        \n",
      "australia_assa_02    348      3132\n",
      "--------------------------------------------------\n"
     ]
    }
   ],
   "source": [
    "# Get data\n",
    "# Load dataframes\n",
    "data_df = directory_to_dataframe()\n",
    "\n",
    "# Filter if you want\n",
    "if \"instrument_to_use\" in wandb.config:\n",
    "    data_df = data_df[data_df.instrument.isin(wandb.config[\"instrument_to_use\"])]\n",
    "\n",
    "# Create datasets\n",
    "train_df, test_df = get_datasets(\n",
    "    data_df,\n",
    "    train_size=wandb.config['train_size'],\n",
    "    test_size=1-wandb.config['train_size'],\n",
    "    burst_frac=wandb.config[\"burst_frac\"],\n",
    "    sort_by_time=wandb.config['sort_by_time'],\n",
    "    only_unique_time_periods=True,\n",
    ")\n",
    "\n",
    "# Update datasets\n",
    "val_df, test_df = (\n",
    "    test_df.iloc[: len(test_df) // 2],\n",
    "    test_df.iloc[len(test_df) // 2 :],\n",
    ")"
   ]
  },
  {
   "cell_type": "code",
   "execution_count": 5,
   "metadata": {},
   "outputs": [],
   "source": [
    "# Get model\n",
    "if wandb.config[\"model\"] == \"transfer\":\n",
    "    mb = TransferLearningModelBuilder(model_params=wandb.config)\n",
    "    # Create image generator\n",
    "    ppf = lambda x: mb.preprocess_input(x, ewc=wandb.config[\"elim_wrong_channels\"])\n",
    "    datagen = ImageDataGenerator(preprocessing_function=ppf)\n",
    "elif wandb.config[\"model\"] == \"autoencoder\":\n",
    "    mb = ModelBuilder(model_params=wandb.config['model_params'])\n",
    "    datagen = ImageDataGenerator()\n",
    "else:\n",
    "    raise ValueError(\"Model not implemented.\")"
   ]
  },
  {
   "cell_type": "code",
   "execution_count": 6,
   "metadata": {},
   "outputs": [
    {
     "name": "stdout",
     "output_type": "stream",
     "text": [
      "Found 1740 validated image filenames belonging to 2 classes.\n"
     ]
    }
   ],
   "source": [
    "test_ds = datagen.flow_from_dataframe(\n",
    "    test_df,\n",
    "    x_col=\"file_path\",\n",
    "    y_col=\"label_keras\",\n",
    "    batch_size=wandb.config[\"batch_size\"],\n",
    "    seed=42,\n",
    "    shuffle=False,\n",
    "    class_mode=\"binary\",\n",
    "    target_size=(256, 256),\n",
    "    color_mode=\"grayscale\",\n",
    ")"
   ]
  },
  {
   "cell_type": "code",
   "execution_count": 7,
   "metadata": {},
   "outputs": [
    {
     "name": "stderr",
     "output_type": "stream",
     "text": [
      "\u001b[34m\u001b[1mwandb\u001b[0m: Downloading large artifact transfer_4:latest, 210.90MB. 1 files... \n",
      "\u001b[34m\u001b[1mwandb\u001b[0m:   1 of 1 files downloaded.  \n",
      "Done. 0:0:0.7\n"
     ]
    }
   ],
   "source": [
    "# Load model from wandb\n",
    "# Get the latest model of <config_name> from wandb\n",
    "artifact = wandb.use_artifact(f\"{entity}/{project_name}/{config_name}:latest\", type=\"model\")\n",
    "\n",
    "# Download the model file to a desired directory\n",
    "artifact_dir = artifact.download()\n",
    "model_path = os.path.join(artifact_dir, \"model.keras\")"
   ]
  },
  {
   "cell_type": "code",
   "execution_count": 8,
   "metadata": {},
   "outputs": [],
   "source": [
    "# Load model \n",
    "model = load_model(model_path, safe_mode=False)"
   ]
  },
  {
   "cell_type": "code",
   "execution_count": 12,
   "metadata": {},
   "outputs": [],
   "source": [
    "# Generate np array from dataset\n",
    "steps = len(test_ds)  # This will give the number of batches in the test_ds\n",
    "X_test = np.concatenate(\n",
    "    [x for x, y in islice(test_ds, steps)]\n",
    ")"
   ]
  },
  {
   "cell_type": "code",
   "execution_count": 13,
   "metadata": {},
   "outputs": [],
   "source": [
    "# Sample X_test\n",
    "X_test_sample = X_test[:1]"
   ]
  },
  {
   "cell_type": "code",
   "execution_count": 14,
   "metadata": {},
   "outputs": [],
   "source": [
    "# Start explainer\n",
    "explainer = GradCAM()\n",
    "grid = explainer.explain(validation_data=(X_test_sample, None ), model=model, class_index=1)  # 1 is burst\n",
    "\n",
    "explainer.save(grid, \".\", \"grad_cam.png\")"
   ]
  },
  {
   "cell_type": "code",
   "execution_count": null,
   "metadata": {},
   "outputs": [],
   "source": []
  }
 ],
 "metadata": {
  "kernelspec": {
   "display_name": "radio_sunburst_detector",
   "language": "python",
   "name": "python3"
  },
  "language_info": {
   "codemirror_mode": {
    "name": "ipython",
    "version": 3
   },
   "file_extension": ".py",
   "mimetype": "text/x-python",
   "name": "python",
   "nbconvert_exporter": "python",
   "pygments_lexer": "ipython3",
   "version": "3.9.17"
  },
  "orig_nbformat": 4
 },
 "nbformat": 4,
 "nbformat_minor": 2
}
